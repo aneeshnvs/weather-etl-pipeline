{
 "cells": [
  {
   "cell_type": "code",
   "execution_count": 2,
   "metadata": {},
   "outputs": [
    {
     "name": "stdout",
     "output_type": "stream",
     "text": [
      "Hello\n"
     ]
    }
   ],
   "source": [
    "print('Hello')\n"
   ]
  },
  {
   "cell_type": "code",
   "execution_count": 5,
   "metadata": {},
   "outputs": [
    {
     "name": "stdout",
     "output_type": "stream",
     "text": [
      "{'_id': ObjectId('67e5b98a5e058bb5f682fc48'), 'firstname': 'aneesh', 'lastname': 'nalluri'}\n",
      "{'_id': ObjectId('67e5bb555e058bb5f682fc49'), 'email': 'sai@tcs.com'}\n",
      "{'_id': ObjectId('67e5bbb75e058bb5f682fc4a'), 'girlname': 'Vinamra', 'title': 'pichidhi'}\n"
     ]
    }
   ],
   "source": [
    "from pymongo import MongoClient\n",
    "\n",
    "# Connect to MongoDB (local instance)\n",
    "client = MongoClient(\"mongodb://localhost:27017/\")\n",
    "\n",
    "# Select the database\n",
    "db = client[\"demo\"]  # Replace 'mydatabase' with your actual database name\n",
    "\n",
    "# Select the collection\n",
    "collection = db[\"users\"]\n",
    "\n",
    "# Query all users\n",
    "query = {}\n",
    "result = collection.find(query)\n",
    "\n",
    "# Print users\n",
    "for document in result:\n",
    "    print(document)\n"
   ]
  },
  {
   "cell_type": "code",
   "execution_count": 6,
   "metadata": {},
   "outputs": [],
   "source": [
    "\n",
    "city_coordinates= [\n",
    "        {\n",
    "            \"name\": \"Delhi\",\n",
    "            \"latitude\": 28.6139,\n",
    "            \"longitude\": 77.2090\n",
    "        },\n",
    "        {\n",
    "            \"name\": \"Dubai\",\n",
    "            \"latitude\": 25.276987,\n",
    "            \"longitude\": 55.296249\n",
    "        },\n",
    "        {\n",
    "            \"name\": \"Dallas\",\n",
    "            \"latitude\": 32.7767,\n",
    "            \"longitude\": -96.7970\n",
    "        },\n",
    "        {\n",
    "            \"name\": \"Sydney\",\n",
    "            \"latitude\": -33.8688,\n",
    "            \"longitude\": 151.2093\n",
    "        },\n",
    "        {\n",
    "            \"name\": \"London\",\n",
    "            \"latitude\": 51.5074,\n",
    "            \"longitude\": -0.1278\n",
    "        },\n",
    "        {\n",
    "            \"name\": \"Johannesburg\",\n",
    "            \"latitude\": -26.2041,\n",
    "            \"longitude\": 28.0473\n",
    "        }\n",
    "    ]\n",
    "\n"
   ]
  },
  {
   "cell_type": "code",
   "execution_count": 7,
   "metadata": {},
   "outputs": [
    {
     "name": "stdout",
     "output_type": "stream",
     "text": [
      "{'_id': ObjectId('67e727cddcfa18d45d3b5ef8'), 'name': 'Delhi', 'latitude': 28.6139, 'longitude': 77.209}\n",
      "{'_id': ObjectId('67e727cddcfa18d45d3b5ef9'), 'name': 'Dubai', 'latitude': 25.276987, 'longitude': 55.296249}\n",
      "{'_id': ObjectId('67e727cddcfa18d45d3b5efa'), 'name': 'Dallas', 'latitude': 32.7767, 'longitude': -96.797}\n",
      "{'_id': ObjectId('67e727cddcfa18d45d3b5efb'), 'name': 'Sydney', 'latitude': -33.8688, 'longitude': 151.2093}\n",
      "{'_id': ObjectId('67e727cddcfa18d45d3b5efc'), 'name': 'London', 'latitude': 51.5074, 'longitude': -0.1278}\n",
      "{'_id': ObjectId('67e727cddcfa18d45d3b5efd'), 'name': 'Johannesburg', 'latitude': -26.2041, 'longitude': 28.0473}\n"
     ]
    }
   ],
   "source": [
    "from pymongo import MongoClient\n",
    "\n",
    "# Connect to MongoDB (Local Instance)\n",
    "client = MongoClient(\"mongodb://localhost:27017/\")\n",
    "\n",
    "# Select the database\n",
    "db = client[\"weather_db\"]\n",
    "\n",
    "# Select the collection\n",
    "collection = db[\"city_coordinates\"]\n",
    "\n",
    "\n",
    "\n",
    "# Insert the data into the collection\n",
    "collection.insert_many(city_coordinates)\n",
    "\n",
    "for document in collection.find():\n",
    "    print(document)\n",
    "\n"
   ]
  },
  {
   "cell_type": "code",
   "execution_count": null,
   "metadata": {},
   "outputs": [],
   "source": []
  },
  {
   "cell_type": "code",
   "execution_count": null,
   "metadata": {},
   "outputs": [],
   "source": []
  }
 ],
 "metadata": {
  "kernelspec": {
   "display_name": "wp-venv",
   "language": "python",
   "name": "python3"
  },
  "language_info": {
   "codemirror_mode": {
    "name": "ipython",
    "version": 3
   },
   "file_extension": ".py",
   "mimetype": "text/x-python",
   "name": "python",
   "nbconvert_exporter": "python",
   "pygments_lexer": "ipython3",
   "version": "3.13.1"
  }
 },
 "nbformat": 4,
 "nbformat_minor": 2
}
